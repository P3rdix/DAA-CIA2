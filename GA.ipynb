{
 "cells": [
  {
   "cell_type": "code",
   "execution_count": 8,
   "id": "9a8cb193",
   "metadata": {},
   "outputs": [],
   "source": [
    "import pandas as pd\n",
    "import numpy as np\n",
    "import random"
   ]
  },
  {
   "cell_type": "code",
   "execution_count": null,
   "id": "9064084c",
   "metadata": {},
   "outputs": [],
   "source": [
    "def sigmoid(x):\n",
    "    return 1/(1+np.exp(-x))"
   ]
  },
  {
   "cell_type": "code",
   "execution_count": null,
   "id": "38364bff",
   "metadata": {},
   "outputs": [],
   "source": [
    "class Node:\n",
    "    def __init__(self, n_inputs):\n",
    "        self.weights = [random.random() for i in range(n_inputs)]\n",
    "        self.inputs = []\n",
    "        self.output = 0\n",
    "        self.error = 0"
   ]
  },
  {
   "cell_type": "code",
   "execution_count": null,
   "id": "330ff859",
   "metadata": {},
   "outputs": [],
   "source": [
    "network = [[Node(1) for i in range(5)],\n",
    "          [Node(5) for i in range(7)],\n",
    "          [Node(7) for i in range(5)],\n",
    "          [Node(5) for i in range(1)]]"
   ]
  },
  {
   "cell_type": "code",
   "execution_count": null,
   "id": "ea973bb0",
   "metadata": {},
   "outputs": [],
   "source": [
    "def forward_propogate(network, data):\n",
    "    x = []\n",
    "    for i in range(len(data)):\n",
    "        network[0][i].inputs.append(data[i])\n",
    "        network[0][i].output = sigmoid(network[0][i].inputs[0]*network[0][i].weights[0])\n",
    "        x.append(network[0][i].output)\n",
    "    for i in range(1,len(network)-1):\n",
    "        l = []\n",
    "        for j in range(len(x)):\n",
    "            network[i][j].inputs = x\n",
    "            s = 0\n",
    "            for k in range(len(x)):\n",
    "                s += network[i][j].inputs[k]*network[i][j].weights[k]\n",
    "            network[i][j].output = sigmoid(s)\n",
    "            l.append(network[i][j].output)\n",
    "        x = l\n",
    "    return network\n"
   ]
  },
  {
   "cell_type": "code",
   "execution_count": null,
   "id": "069eeb24",
   "metadata": {},
   "outputs": [],
   "source": [
    "def error(actual,expected):\n",
    "    return [actual[i]-expected[i] for i in range(len(actual))]"
   ]
  },
  {
   "cell_type": "code",
   "execution_count": null,
   "id": "20cb4a73",
   "metadata": {},
   "outputs": [],
   "source": [
    "def back_propogate(network,error,lr = 0.001):\n",
    "    for j in range(2):\n",
    "        network[-1][j].error = error[j]*(network[-1][j].output)*(1-network[-1][j].output)\n",
    "        s = [network[-1][j].error*network[-1][j].weights[i] for i in range(len(network[-1][j].inputs))]\n",
    "        network[-1][j].weights = [network[-1][j].weights[i] + lr*network[-1][j].error*network[-1][j].inputs[i] for i in range(len(network[-1][j].weights))]\n",
    "        for i in range(len(network[-2])):\n",
    "            network[-2][i].error += s[i]\n",
    "    \n",
    "    for i in range(len(network)-2,-1,-1):\n",
    "        for j in range(len(network[i])):\n",
    "            t = network[i][j].error*network[i][j].output*(1-network[i][j].output)\n",
    "            w = network[i][j].weights\n",
    "            for k in range(len(network[i][j].weights)):\n",
    "                network[i][j].weights[k] += t*network[i][j].inputs[k]\n",
    "            if i!=0:\n",
    "                for k in range(len(network[i-1])):\n",
    "                    network[i-1][k].error += network[i][j].error*w[k]\n",
    "    return network"
   ]
  },
  {
   "cell_type": "code",
   "execution_count": 1,
   "id": "36eeb947",
   "metadata": {},
   "outputs": [],
   "source": [
    "def select_paths_r(network,n):\n",
    "    x = []\n",
    "    for i in range(n):\n",
    "        y = []\n",
    "        for j in range(len(network)):\n",
    "            y.append(random.randint()%len(network[j]))\n",
    "        x.append(y)\n",
    "    return x"
   ]
  },
  {
   "cell_type": "code",
   "execution_count": 4,
   "id": "58c6b1ad",
   "metadata": {},
   "outputs": [],
   "source": [
    "def crossover(p1,p2,x):\n",
    "    pn1 = p1[:x]+p[x:]\n",
    "    pn2 = p2[:x]+p1[x:]\n",
    "    return pn1,pn2"
   ]
  },
  {
   "cell_type": "code",
   "execution_count": 5,
   "id": "db4e2295",
   "metadata": {},
   "outputs": [],
   "source": [
    "def mutate(ppln,strand,m_prob= 0.1):\n",
    "    if random.random()<m_prob:\n",
    "        x = random.randint()%len(strand)\n",
    "        mstrand = strand[:x]+[ppln[x][random.randint()%len(ppln[x])]]+[strand[x+1:]]\n",
    "        return mstrand\n",
    "    return -1"
   ]
  },
  {
   "cell_type": "code",
   "execution_count": 9,
   "id": "a91279d0",
   "metadata": {},
   "outputs": [
    {
     "name": "stdout",
     "output_type": "stream",
     "text": [
      "<class 'pandas.core.frame.DataFrame'>\n",
      "RangeIndex: 5000 entries, 0 to 4999\n",
      "Data columns (total 7 columns):\n",
      " #   Column      Non-Null Count  Dtype  \n",
      "---  ------      --------------  -----  \n",
      " 0   Age         5000 non-null   float64\n",
      " 1   Experience  5000 non-null   float64\n",
      " 2   Income      5000 non-null   float64\n",
      " 3   Family      5000 non-null   float64\n",
      " 4   CCAvg       5000 non-null   float64\n",
      " 5   Education   5000 non-null   float64\n",
      " 6   CreditCard  5000 non-null   int64  \n",
      "dtypes: float64(6), int64(1)\n",
      "memory usage: 273.6 KB\n"
     ]
    }
   ],
   "source": [
    "data = pd.read_csv('Bank_Personal_Loan_Modelling.csv')\n",
    "\n",
    "from sklearn.preprocessing import MinMaxScaler\n",
    " \n",
    "mx = MinMaxScaler()\n",
    "cols = ['Age', 'Experience', 'Income', 'Family', 'CCAvg', 'Education']\n",
    "data[cols] = mx.fit_transform(data[cols])\n",
    "\n",
    "data.drop([\"ID\",\"Mortgage\",\"Personal Loan\", \"Securities Account\",\"CD Account\",\"Online\",\"ZIP Code\"],axis=1,inplace=True)\n",
    "\n",
    "data.info()"
   ]
  },
  {
   "cell_type": "code",
   "execution_count": 10,
   "id": "964dcac0",
   "metadata": {},
   "outputs": [],
   "source": [
    "x,y = data.iloc[:,:-1],data.iloc[:,-1]"
   ]
  },
  {
   "cell_type": "code",
   "execution_count": 13,
   "id": "83a13ad9",
   "metadata": {},
   "outputs": [],
   "source": [
    "from sklearn.model_selection import train_test_split\n",
    "\n",
    "xtr,xt,ytr,yt = train_test_split(x,y,test_size = 0.3)\n",
    "\n",
    "xtr,xo,ytr,yo = train_test_split(xtr,ytr,test_size=0.5)"
   ]
  },
  {
   "cell_type": "code",
   "execution_count": null,
   "id": "a1dddab8",
   "metadata": {},
   "outputs": [],
   "source": [
    "for i in range(len(xtr)):\n",
    "    forward_propogate(network,xtr[i])\n",
    "    error = ytr[i]-network[-1][0].output\n",
    "    back_propogate(network,error)"
   ]
  },
  {
   "cell_type": "code",
   "execution_count": null,
   "id": "e4a5e570",
   "metadata": {},
   "outputs": [],
   "source": [
    "def feed_path(network,path,inp,out,f = 0):\n",
    "    m = inp\n",
    "    for i in range(len(path)-1):\n",
    "        m = sigmoid(network[i][path[i]].weight[path[i+1]]*m)\n",
    "    if f==1:\n",
    "        return sigmoid(network[-1][0].weight[0]*m)\n",
    "    return out-sigmoid(network[-1][0].weight[0]*m)"
   ]
  },
  {
   "cell_type": "code",
   "execution_count": null,
   "id": "d1cce950",
   "metadata": {},
   "outputs": [],
   "source": [
    "def genetic(network,data,output):\n",
    "    paths = select_paths(network,n=100)\n",
    "    for i in range(len(data)):\n",
    "        e = []\n",
    "        for j in paths:\n",
    "            e.append(feed_path(network,j,data[i],output[i]))\n",
    "        e.sort()\n",
    "        m = crossover(e[0],e[1])\n",
    "        paths[-1] = m[0]\n",
    "        paths[-2] = m[1]\n",
    "        m = mutate(network,paths[random.randint()%len(paths)])\n",
    "        if m != -1:\n",
    "            paths[-3] = m\n",
    "    return paths"
   ]
  },
  {
   "cell_type": "code",
   "execution_count": 14,
   "id": "461e4984",
   "metadata": {},
   "outputs": [
    {
     "ename": "NameError",
     "evalue": "name 'genetic' is not defined",
     "output_type": "error",
     "traceback": [
      "\u001b[0;31m---------------------------------------------------------------------------\u001b[0m",
      "\u001b[0;31mNameError\u001b[0m                                 Traceback (most recent call last)",
      "\u001b[0;32m/tmp/ipykernel_132762/1671430709.py\u001b[0m in \u001b[0;36m<module>\u001b[0;34m\u001b[0m\n\u001b[0;32m----> 1\u001b[0;31m \u001b[0mgenetic\u001b[0m\u001b[0;34m(\u001b[0m\u001b[0mnetwork\u001b[0m\u001b[0;34m,\u001b[0m\u001b[0mxo\u001b[0m\u001b[0;34m,\u001b[0m\u001b[0myo\u001b[0m\u001b[0;34m)\u001b[0m\u001b[0;34m\u001b[0m\u001b[0;34m\u001b[0m\u001b[0m\n\u001b[0m",
      "\u001b[0;31mNameError\u001b[0m: name 'genetic' is not defined"
     ]
    }
   ],
   "source": [
    "paths=genetic(network,xo,yo)"
   ]
  },
  {
   "cell_type": "code",
   "execution_count": null,
   "id": "71602f1a",
   "metadata": {},
   "outputs": [],
   "source": [
    "for i in range(len(xt)):\n",
    "    l=[]\n",
    "    for j in paths:\n",
    "        l.append(feed_path(network,j,xt[i],yt[i],f = 1))\n",
    "    out = sum(l)\n",
    "    out"
   ]
  }
 ],
 "metadata": {
  "kernelspec": {
   "display_name": "Python 3 (ipykernel)",
   "language": "python",
   "name": "python3"
  },
  "language_info": {
   "codemirror_mode": {
    "name": "ipython",
    "version": 3
   },
   "file_extension": ".py",
   "mimetype": "text/x-python",
   "name": "python",
   "nbconvert_exporter": "python",
   "pygments_lexer": "ipython3",
   "version": "3.10.6"
  }
 },
 "nbformat": 4,
 "nbformat_minor": 5
}
